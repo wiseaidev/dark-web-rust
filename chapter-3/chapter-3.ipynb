{
 "cells": [
  {
   "cell_type": "markdown",
   "id": "16ef4aae-e71b-4940-8c47-76d1426f3c7c",
   "metadata": {},
   "source": [
    "# Chapter 3: Rust's Cryptographic Strengths and Vulnerabilities\n",
    "\n",
    "## Introduction\n",
    "\n",
    "In this chapter, our exploration into Rust's cryptographic landscape reveals a canvas of libraries and tools designed to strengthen digital communications. At the forefront stands the [`rustls`](https://github.com/rustls/rustls) library, a robust Rust implementation of TLS, which serves as the cornerstone for securing SSL/TLS communications. Configuring a secure server involves creating an instance of [`ServerConfig`](https://docs.rs/rustls/latest/rustls/server/struct.ServerConfig.html) and tailoring it to specific needs, such as cipher suite preferences and key management. Rust's type safety and expressive syntax contribute to a more resilient implementation, mitigating common pitfalls associated with memory safety.\n",
    "\n",
    "Beyond the SSL/TLS domain, Rust empowers us to tackle the complexities of [mutual authentication](https://en.wikipedia.org/wiki/Mutual_authentication) using the [`openssl`](https://en.wikipedia.org/wiki/OpenSSL) library. This involves crafting a secure handshake process where both client and server authenticate each other's identity through [X.509](https://en.wikipedia.org/wiki/X.509) certificates. Configuring an SSL acceptor involves loading server certificates and private keys while establishing trust relationships through [CA certificates](https://en.wikipedia.org/wiki/Certificate_authority). Rust's emphasis on [ownership](https://doc.rust-lang.org/book/ch04-00-understanding-ownership.html) and [lifetimes](https://doc.rust-lang.org/book/ch10-00-generics.html#generic-types-traits-and-lifetimes) ensures that [cryptographic keys](https://en.wikipedia.org/wiki/Key_(cryptography)) and sensitive data are managed securely throughout the authentication process, reducing the risk of memory leaks and unauthorized access.\n",
    "\n",
    "As we navigate Rust's cryptographic terrain, [symmetric-key cryptography](https://en.wikipedia.org/wiki/Symmetric-key_algorithm) emerges as a pivotal aspect, facilitated by libraries like [`crypto`](https://crates.io/crates/crypto). Our exploration takes us into the domain of [the Advanced Encryption Standard (AES)](https://en.wikipedia.org/wiki/Advanced_Encryption_Standard), where data [encryption](https://en.wikipedia.org/wiki/Encryption) and [decryption](https://en.wikipedia.org/wiki/Encryption) become intricate dances with key sizes and block modes. [Rust's focus on zero-cost abstractions](https://doc.rust-lang.org/beta/embedded-book/static-guarantees/zero-cost-abstractions.html) and performance ensures that cryptographic operations are executed efficiently, catering to the demands of secure data transmission. Leveraging Rust's [concurrency model](https://doc.rust-lang.org/book/ch16-00-concurrency.html), we can parallelize cryptographic tasks, enhancing throughput without compromising security."
   ]
  },
  {
   "cell_type": "markdown",
   "id": "4ec4ed77-fddd-4358-85b8-401115926814",
   "metadata": {},
   "source": [
    "## Table of Contents\n",
    "\n",
    "* TODO"
   ]
  },
  {
   "cell_type": "markdown",
   "id": "ccc15f26-08eb-425e-8875-c6265b6de47c",
   "metadata": {},
   "source": [
    "## 1. Cryptography in Rust\n",
    "\n",
    "Before kicking off our exploration of cryptographic operations in Rust, it's essential to immerse ourselves in the fundamental concepts that make this complex field. We'll traverse these concepts meticulously to ensure a robust comprehension of the cryptographic landscape.\n",
    "\n",
    "### 1.1 Encryption and Decryption\n",
    "\n",
    "[Encryption](https://en.wikipedia.org/wiki/Encryption), a part of cryptography, surpasses mere confidentiality maintenance. It represents a dual-purpose functionality, allowing data scrambling and subsequent unscrambling. At its core, encryption involves a cryptographic function, that takes both data and a key as inputs, yielding either ciphertext or the original cleartext. [Symmetric algorithms](https://en.wikipedia.org/wiki/Symmetric-key_algorithm) work with a single key for both encryption and decryption, while [asymmetric](https://en.wikipedia.org/wiki/Public-key_cryptography) counterparts work with different keys.\n",
    "\n",
    "At the heart of our cryptographic exploration lies [ChaCha20Poly1305](https://en.wikipedia.org/wiki/ChaCha20-Poly1305) using the [`chacha20poly1305`](https://docs.rs/chacha20poly1305/latest/chacha20poly1305/index.html) crate, a cipher notable for its simplicity and speed. The underlying [ChaCha20](https://en.wikipedia.org/wiki/Salsa20#ChaCha_variant) stream cipher, employing a blend of add, rotate, and XOR instructions (ARX), works seamlessly with the straightforward [Poly1305](https://en.wikipedia.org/wiki/Poly1305) hash function. While not universally endorsed by standards bodies like [NIST](https://en.wikipedia.org/wiki/National_Institute_of_Standards_and_Technology), ChaCha20Poly1305 is widely adopted, being mandatory in the [Transport Layer Security (TLS)](https://en.wikipedia.org/wiki/Transport_Layer_Security) protocol.\n",
    "\n",
    "```rust\n",
    "use chacha20poly1305::{aead::{Aead, KeyInit, OsRng}, ChaCha20Poly1305, Nonce, AeadCore};\n",
    "use base64::{Engine as _, engine::{self, general_purpose}, alphabet};\n",
    "{\n",
    "    let key = ChaCha20Poly1305::generate_key(&mut OsRng);\n",
    "    let cipher = ChaCha20Poly1305::new(&key);\n",
    "    let nonce = ChaCha20Poly1305::generate_nonce(&mut OsRng);\n",
    "    let plaintext = \"Hello, Rust Cryptography!\";\n",
    "    \n",
    "    // Encryption\n",
    "    let ciphertext = cipher.encrypt(&nonce, plaintext.as_bytes())?;\n",
    "    let b64_ciphertext = general_purpose::STANDARD.encode(&ciphertext);\n",
    "    println!(\"Base64 Cipher Text: {}\", b64_ciphertext);\n",
    "\n",
    "    // Decryption\n",
    "    let decrypted_text = cipher.decrypt(&nonce, &*ciphertext)?;\n",
    "    println!(\"Decrypted Text: {}\", String::from_utf8_lossy(&decrypted_text));\n",
    "}\n",
    "```\n",
    "\n",
    "Encryption works like a protector for information moving from one place to another and a keeper of important data stored away. It waits to be unlocked for later use or carefully watched for any signs of deceitful actions."
   ]
  },
  {
   "cell_type": "code",
   "execution_count": 2,
   "id": "65025c10-3b69-401b-a2a5-774075f75edf",
   "metadata": {},
   "outputs": [],
   "source": [
    ":dep chacha20poly1305 = {version=\"0.10.1\"}"
   ]
  },
  {
   "cell_type": "code",
   "execution_count": 3,
   "id": "1025ac0d-32c7-48f0-ab04-43d7aa90ee80",
   "metadata": {},
   "outputs": [],
   "source": [
    ":dep base64 = {version=\"0.21.5\"}"
   ]
  },
  {
   "cell_type": "code",
   "execution_count": 4,
   "id": "c93ee33d-ba6b-4d8f-ac30-56623261c108",
   "metadata": {},
   "outputs": [
    {
     "name": "stdout",
     "output_type": "stream",
     "text": [
      "Base64 Cipher Text: 5wLvJxUKfPd5bnQWiq2aRtLLIiluVXj7VQkJ8ePOmarTX0v59EOKtRA=\n",
      "Decrypted Text: Hello, Rust Cryptography!\n"
     ]
    },
    {
     "data": {
      "text/plain": [
       "()"
      ]
     },
     "execution_count": 4,
     "metadata": {},
     "output_type": "execute_result"
    }
   ],
   "source": [
    "use chacha20poly1305::{aead::{Aead, KeyInit, OsRng}, ChaCha20Poly1305, Nonce, AeadCore};\n",
    "use base64::{Engine as _, engine::{self, general_purpose}, alphabet};\n",
    "{\n",
    "    let key = ChaCha20Poly1305::generate_key(&mut OsRng);\n",
    "    let cipher = ChaCha20Poly1305::new(&key);\n",
    "    let nonce = ChaCha20Poly1305::generate_nonce(&mut OsRng);\n",
    "    let plaintext = \"Hello, Rust Cryptography!\";\n",
    "    \n",
    "    // Encryption\n",
    "    let ciphertext = cipher.encrypt(&nonce, plaintext.as_bytes())?;\n",
    "    let b64_ciphertext = general_purpose::STANDARD.encode(&ciphertext);\n",
    "    println!(\"Base64 Cipher Text: {}\", b64_ciphertext);\n",
    "\n",
    "    // Decryption\n",
    "    let decrypted_text = cipher.decrypt(&nonce, &*ciphertext)?;\n",
    "    println!(\"Decrypted Text: {}\", String::from_utf8_lossy(&decrypted_text));\n",
    "}"
   ]
  },
  {
   "cell_type": "markdown",
   "id": "b810c9b1-7373-45f8-9344-67687f4de598",
   "metadata": {},
   "source": [
    "Note that the coded message is printed as a string encoded in base64, and the decoded message is displayed as a standard UTF-8 string. "
   ]
  },
  {
   "cell_type": "markdown",
   "id": "3529eb39-c07d-4abf-a546-4023654b046c",
   "metadata": {},
   "source": [
    "### 1.2 Hashing\n",
    "\n",
    "[Hashing](https://en.wikipedia.org/wiki/Hash_function) stands as a fundamental cryptographic process, operating as a unidirectional function meticulously crafted to produce a fixed-length and inherently unique output, all delegation upon a variable-length input. Its complex elegance lies in the irreversible nature of the transformation, blocking any possibility of figuring out the original input from the resultant hash value. This cryptographic technique finds its power in various scenarios, particularly those where the preservation of the original cleartext source becomes unnecessary for subsequent processing or to guarantee the integrity of data. An exemplary manifestation of secure practices within the domain of information protection is the storage of hashed passwords, a practice ideally complemented by the introduction of [salt](https://en.wikipedia.org/wiki/Salt_(cryptography)) - an additional layer of randomized data. This cryptographic seasoning enhances the unpredictability of the hash values, strengthening security and aligning with best practices in safeguarding sensitive information.\n",
    "\n",
    "In our exploration of hashing within the Rust programming language, we delve into two illustrative examples. The first demonstrates the cracking of MD5 hashes through an offline [dictionary attack](https://en.wikipedia.org/wiki/Dictionary_attack) using the [`md-5`](https://docs.rs/md-5) crate, employing Rust's capabilities to generate and compare hash values systematically. The second example showcases the implementation of [bcrypt](https://en.wikipedia.org/wiki/Bcrypt) using the [`bcrypt`](https://github.com/Keats/rust-bcrypt) crate, an advanced algorithm enhancing the security of sensitive data such as passwords. Rust's versatility shines as it seamlessly integrates these cryptographic techniques, emphasizing its adaptability in addressing diverse security challenges.\n",
    "\n",
    "#### 1.2.1 Cracking MD5 Hashes\n",
    "\n",
    "Let's examine the code for cracking MD5 hashes in Rust:\n",
    "\n",
    "```rust\n",
    "use md5::{Md5, Digest};\n",
    "use hex_literal::hex;\n",
    "\n",
    "let md5_hash = hex!(\"517e90f2a52e730701a5d7ec89ef0f40\");\n",
    "\n",
    "let wordlist = vec![\"p@ssword231\", \"12345656789\", \"password\", \"Password\", \"Mahmoud123\"];\n",
    "\n",
    "for password in wordlist {\n",
    "    let mut md5_hasher = Md5::new();\n",
    "    md5_hasher.update(password);\n",
    "    let md5_generated = md5_hasher.finalize();\n",
    "    let md5_hex_string: String = md5_generated.iter().map(|byte| format!(\"{:02x}\", byte)).collect();\n",
    "\n",
    "    println!(\"[INFO] Trying hash {:?}\", md5_hex_string);\n",
    "    if md5_generated[..] == md5_hash {\n",
    "        println!(\"[INFO] Password found (MD5): {}\", password);\n",
    "    }\n",
    "}\n",
    "```\n",
    "\n",
    "In this Rust example, we start by defining variable `md5_hash` that hold the target hash value. This hash were obtained post-exploitation, and the goal is to discover the cleartext passwords that produced it. The code reads from a vector of strings, generating MD5 hashes for each password and comparing them with the target hash."
   ]
  },
  {
   "cell_type": "code",
   "execution_count": 5,
   "id": "449c8768-fcd6-4375-91ec-68f0c3839b8c",
   "metadata": {},
   "outputs": [],
   "source": [
    ":dep md-5 = {version=\"0.10.6\"}"
   ]
  },
  {
   "cell_type": "code",
   "execution_count": 6,
   "id": "9fc69a62-99fc-4ece-b1ee-a738fa1a5b11",
   "metadata": {},
   "outputs": [],
   "source": [
    ":dep hex-literal = {version=\"0.4.1\"}"
   ]
  },
  {
   "cell_type": "code",
   "execution_count": 7,
   "id": "d9bcef69-25f1-4523-bed2-6c3f6d7301f5",
   "metadata": {},
   "outputs": [
    {
     "name": "stdout",
     "output_type": "stream",
     "text": [
      "[INFO] Trying hash \"ab2d83f72c018c04bda54551f7963e30\"\n",
      "[INFO] Trying hash \"576333879d388b3537287481aa07f7c6\"\n",
      "[INFO] Trying hash \"5f4dcc3b5aa765d61d8327deb882cf99\"\n",
      "[INFO] Trying hash \"dc647eb65e6711e155375218212b3964\"\n",
      "[INFO] Trying hash \"517e90f2a52e730701a5d7ec89ef0f40\"\n",
      "[INFO] Password found (MD5): Mahmoud123\n"
     ]
    },
    {
     "data": {
      "text/plain": [
       "()"
      ]
     },
     "execution_count": 7,
     "metadata": {},
     "output_type": "execute_result"
    }
   ],
   "source": [
    "use md5::{Md5, Digest};\n",
    "use hex_literal::hex;\n",
    "\n",
    "let md5_hash = hex!(\"517e90f2a52e730701a5d7ec89ef0f40\");\n",
    "\n",
    "let wordlist = vec![\"p@ssword231\", \"12345656789\", \"password\", \"Password\", \"Mahmoud123\"];\n",
    "\n",
    "for password in wordlist {\n",
    "    let mut md5_hasher = Md5::new();\n",
    "    md5_hasher.update(password);\n",
    "    let md5_generated = md5_hasher.finalize();\n",
    "    let md5_hex_string: String = md5_generated.iter().map(|byte| format!(\"{:02x}\", byte)).collect();\n",
    "\n",
    "    println!(\"[INFO] Trying hash {:?}\", md5_hex_string);\n",
    "    if md5_generated[..] == md5_hash {\n",
    "        println!(\"[INFO] Password found (MD5): {}\", password);\n",
    "    }\n",
    "}"
   ]
  },
  {
   "cell_type": "markdown",
   "id": "ff458618-31a3-48f3-90a6-530ec2ae920d",
   "metadata": {},
   "source": [
    "#### 1.2.2 Implementing bcrypt\n",
    "\n",
    "Now, let's explore how to use bcrypt to encrypt and authenticate passwords in Rust:\n",
    "\n",
    "```rust\n",
    "use bcrypt::{DEFAULT_COST, hash, verify};\n",
    "\n",
    "let stored_hash = \"$2b$12$gPxgyRNV5G/DTaADM4rnuu3LcEbQeVdqhdNaKobgmdiNeyNRmV2me\";\n",
    "\n",
    "let password = \"p@ssword123\";\n",
    "\n",
    "// Hash the password using bcrypt\n",
    "let hashed = hash(password, DEFAULT_COST)?;\n",
    "\n",
    "println!(\"Generated Hash: {}\", hashed);\n",
    "\n",
    "// Verify the hashed password against the stored hash\n",
    "if verify(password, &stored_hash)? {\n",
    "    println!(\"[INFO] Authentication successful\");\n",
    "} else {\n",
    "    println!(\"[INFO] Authentication failed\");\n",
    "}\n",
    "```\n",
    "\n",
    "In this Rust example, we utilize the [`bcrypt`](https://docs.rs/bcrypt) crate to implement bcrypt hashing and authentication. The [`hash`](https://docs.rs/bcrypt/latest/bcrypt/fn.hash.html) function generates a bcrypt hash from a cleartext password, and [`verify`](https://docs.rs/bcrypt/latest/bcrypt/fn.verify.html) is used to compare the generated hash with a stored hash to authenticate the password. The cost factor ensures the algorithm's resource-intensive nature, enhancing security against brute-force attacks."
   ]
  },
  {
   "cell_type": "code",
   "execution_count": 8,
   "id": "7c18c682-0fbd-487e-8e29-b0a55c844473",
   "metadata": {},
   "outputs": [],
   "source": [
    ":dep bcrypt = {version=\"0.15.0\"}"
   ]
  },
  {
   "cell_type": "code",
   "execution_count": 9,
   "id": "e5b96965-8a7c-414d-a9ec-b5200c0de3d8",
   "metadata": {},
   "outputs": [
    {
     "name": "stdout",
     "output_type": "stream",
     "text": [
      "Generated Hash: $2b$12$BMTC/ZrVK8EYpLWDBm9R/uSG.K1hRUhs8QIGt60XqYmE3QCuvki2q\n",
      "[INFO] Authentication successful\n"
     ]
    },
    {
     "data": {
      "text/plain": [
       "()"
      ]
     },
     "execution_count": 9,
     "metadata": {},
     "output_type": "execute_result"
    }
   ],
   "source": [
    "use bcrypt::{DEFAULT_COST, hash, verify};\n",
    "\n",
    "let stored_hash = \"$2b$12$gPxgyRNV5G/DTaADM4rnuu3LcEbQeVdqhdNaKobgmdiNeyNRmV2me\";\n",
    "\n",
    "let password = \"p@ssword123\";\n",
    "\n",
    "// Hash the password using bcrypt\n",
    "let hashed = hash(password, DEFAULT_COST)?;\n",
    "\n",
    "println!(\"Generated Hash: {}\", hashed);\n",
    "\n",
    "// Verify the hashed password against the stored hash\n",
    "if verify(password, &stored_hash)? {\n",
    "    println!(\"[INFO] Authentication successful\");\n",
    "} else {\n",
    "    println!(\"[INFO] Authentication failed\");\n",
    "}"
   ]
  },
  {
   "cell_type": "markdown",
   "id": "b92d5e6a-2b3d-4d03-9182-03810e6ed01f",
   "metadata": {},
   "source": [
    "These Rust examples provide insights into the practical application of hashing and bcrypt in real-world scenarios. As we delve into Rust's cryptographic features, a deeper understanding of these concepts will empower your cryptographic journey."
   ]
  },
  {
   "cell_type": "markdown",
   "id": "da11bb09-1611-4bbf-8b3b-45c08a0118a6",
   "metadata": {},
   "source": [
    "---"
   ]
  }
 ],
 "metadata": {
  "kernelspec": {
   "display_name": "Rust",
   "language": "rust",
   "name": "rust"
  },
  "language_info": {
   "codemirror_mode": "rust",
   "file_extension": ".rs",
   "mimetype": "text/rust",
   "name": "Rust",
   "pygment_lexer": "rust",
   "version": ""
  }
 },
 "nbformat": 4,
 "nbformat_minor": 5
}
